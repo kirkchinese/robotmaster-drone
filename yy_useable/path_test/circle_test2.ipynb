{
 "cells": [
  {
   "cell_type": "code",
   "execution_count": 1,
   "metadata": {},
   "outputs": [],
   "source": [
    "import rospy\n",
    "from sensor_msgs.msg import CompressedImage, Image\n",
    "from geometry_msgs.msg import PoseStamped, TransformStamped\n",
    "from nav_msgs.msg import Odometry\n",
    "from cv_bridge.boost.cv_bridge_boost import getCvType\n",
    "from cv_bridge import CvBridge, CvBridgeError\n",
    "import tf2_ros\n",
    "import tf\n",
    "\n",
    "from traj_utils.msg import CirclePoses"
   ]
  },
  {
   "cell_type": "code",
   "execution_count": 2,
   "metadata": {},
   "outputs": [],
   "source": [
    "import numpy as np\n",
    "import cv2\n",
    "import matplotlib.pyplot as plt\n",
    "import time\n",
    "\n",
    "from draw import plot3d\n",
    "from reproj import SFM, FRAME, p2w_w2p_once, calc_circle"
   ]
  },
  {
   "cell_type": "code",
   "execution_count": 3,
   "metadata": {},
   "outputs": [],
   "source": [
    "def load_frame(idx):\n",
    "    data = np.load('/home/c/path-v1/sfm2_data/left_{}.npz'.format(idx))\n",
    "    img = data['img']\n",
    "    pos = data['pos']\n",
    "    R = data['R']\n",
    "    data.close()\n",
    "    \n",
    "    return img, R, pos, None"
   ]
  },
  {
   "cell_type": "code",
   "execution_count": 4,
   "metadata": {},
   "outputs": [],
   "source": [
    "from reproj import w2p_sim, KRt2proj, init_circle"
   ]
  },
  {
   "cell_type": "code",
   "execution_count": 5,
   "metadata": {},
   "outputs": [
    {
     "ename": "TypeError",
     "evalue": "__init__() missing 1 required positional argument: 'pos'",
     "output_type": "error",
     "traceback": [
      "\u001b[0;31m---------------------------------------------------------------------------\u001b[0m",
      "\u001b[0;31mTypeError\u001b[0m                                 Traceback (most recent call last)",
      "\u001b[0;32m<ipython-input-5-66f7bc6fc13c>\u001b[0m in \u001b[0;36m<module>\u001b[0;34m\u001b[0m\n\u001b[1;32m      2\u001b[0m \u001b[0msfm\u001b[0m \u001b[0;34m=\u001b[0m \u001b[0mSFM\u001b[0m\u001b[0;34m(\u001b[0m\u001b[0morigin\u001b[0m\u001b[0;34m,\u001b[0m \u001b[0mvec\u001b[0m\u001b[0;34m,\u001b[0m \u001b[0myaw\u001b[0m\u001b[0;34m)\u001b[0m\u001b[0;34m\u001b[0m\u001b[0;34m\u001b[0m\u001b[0m\n\u001b[1;32m      3\u001b[0m \u001b[0mimg\u001b[0m\u001b[0;34m,\u001b[0m \u001b[0mR\u001b[0m\u001b[0;34m,\u001b[0m \u001b[0mpos\u001b[0m\u001b[0;34m,\u001b[0m \u001b[0mtarget\u001b[0m \u001b[0;34m=\u001b[0m \u001b[0mload_frame\u001b[0m\u001b[0;34m(\u001b[0m\u001b[0;36m950\u001b[0m\u001b[0;34m)\u001b[0m\u001b[0;34m\u001b[0m\u001b[0;34m\u001b[0m\u001b[0m\n\u001b[0;32m----> 4\u001b[0;31m \u001b[0mframe\u001b[0m \u001b[0;34m=\u001b[0m \u001b[0mFRAME\u001b[0m\u001b[0;34m(\u001b[0m\u001b[0mimg\u001b[0m\u001b[0;34m,\u001b[0m \u001b[0mR\u001b[0m\u001b[0;34m,\u001b[0m \u001b[0mpos\u001b[0m\u001b[0;34m,\u001b[0m \u001b[0mthresh\u001b[0m \u001b[0;34m=\u001b[0m \u001b[0;36m40.0\u001b[0m\u001b[0;34m)\u001b[0m\u001b[0;34m\u001b[0m\u001b[0;34m\u001b[0m\u001b[0m\n\u001b[0m\u001b[1;32m      5\u001b[0m \u001b[0mwt\u001b[0m \u001b[0;34m=\u001b[0m \u001b[0mframe\u001b[0m\u001b[0;34m.\u001b[0m\u001b[0mp2w_v2\u001b[0m\u001b[0;34m(\u001b[0m\u001b[0msfm\u001b[0m\u001b[0;34m,\u001b[0m \u001b[0mframe\u001b[0m\u001b[0;34m.\u001b[0m\u001b[0mcnt\u001b[0m\u001b[0;34m)\u001b[0m\u001b[0;34m\u001b[0m\u001b[0;34m\u001b[0m\u001b[0m\n\u001b[1;32m      6\u001b[0m \u001b[0mwt\u001b[0m \u001b[0;34m=\u001b[0m \u001b[0mp2w_w2p_once\u001b[0m\u001b[0;34m(\u001b[0m\u001b[0msfm\u001b[0m\u001b[0;34m,\u001b[0m \u001b[0mframe\u001b[0m\u001b[0;34m,\u001b[0m \u001b[0mwt\u001b[0m\u001b[0;34m)\u001b[0m\u001b[0;34m\u001b[0m\u001b[0;34m\u001b[0m\u001b[0m\n",
      "\u001b[0;31mTypeError\u001b[0m: __init__() missing 1 required positional argument: 'pos'"
     ]
    }
   ],
   "source": [
    "origin, vec, yaw = np.float32([[23.211326599121094, 6.285023212432861, -0.5427668690681458]]), [0, 0, 1], -0.07842210461956332\n",
    "sfm = SFM(origin, vec, yaw)\n",
    "img, R, pos, target = load_frame(950)\n",
    "frame = FRAME(img, R, pos, thresh = 40.0)\n",
    "wt = frame.p2w_v2(sfm, frame.cnt)\n",
    "wt = p2w_w2p_once(sfm, frame, wt)\n",
    "origin_, vec_, yaw_, theta, radius = calc_circle(wt)\n",
    "sfm.update_sfm(origin_, vec_, yaw_)\n",
    "print(origin_, vec_, yaw_, radius)\n",
    "if 1:\n",
    "    KRt = KRt2proj(sfm.CK, np.linalg.inv(frame.R), np.linalg.inv(frame.R).dot(-(frame.pos + sfm.CAM_T)))\n",
    "    pt2d = w2p_sim(KRt, wt)\n",
    "    img3 = cv2.drawContours(frame.img.copy(), [np.int32(pt2d)], -1, (0,255,0), 3)\n",
    "    outer, _ = init_circle(origin_, radius, vec_, yaw_, theta)\n",
    "    _, _, outer_img = frame.w2p(sfm, outer)\n",
    "    img1 = cv2.drawContours(frame.img.copy(), [np.int32(outer_img)], -1, (0,255,255), 3)\n",
    "    img2 = cv2.drawContours(frame.img.copy(), [np.int32(frame.cnt)], -1, (255,0,0), 3)\n",
    "    plt.figure(figsize = (10, 5))\n",
    "    plt.subplot(131)\n",
    "    plt.imshow(img1)\n",
    "    plt.subplot(132)\n",
    "    plt.imshow(img2)\n",
    "    plt.subplot(133)\n",
    "    plt.imshow(img3)\n",
    "    plt.show()\n",
    "plot3d(outer)\n",
    "plot3d(wt)"
   ]
  },
  {
   "cell_type": "code",
   "execution_count": null,
   "metadata": {
    "scrolled": true
   },
   "outputs": [],
   "source": [
    "origin, vec, yaw = np.float32([[23.211326599121094, 6.285023212432861, -0.5427668690681458]]), [0, 0, 1], -0.07842210461956332\n",
    "sfm = SFM(origin, vec, yaw)\n",
    "#choose = np.random.randint(800, 960, 2)\n",
    "\n",
    "length = 100\n",
    "theta = np.arange(length) * 2 * np.pi / length - np.pi\n",
    "outer, _ = init_circle(origin, 0.78, vec, yaw, theta)\n",
    "\n",
    "for idx in range(800, 950):\n",
    "    img, R, pos, target = load_frame(idx)\n",
    "    print(R)\n",
    "    print(np.linalg.det(R), pos)\n",
    "    frame = FRAME(img, R, pos, thresh = 20.0)\n",
    "    _, _, pix = frame.w2p(sfm, outer)\n",
    "    img_ = cv2.drawContours(frame.img.copy(), [np.int32(pix)], -1, (255,0,0), 3)\n",
    "    plt.imshow(img_)\n",
    "    plt.show()\n",
    "    break"
   ]
  },
  {
   "cell_type": "code",
   "execution_count": null,
   "metadata": {
    "scrolled": true
   },
   "outputs": [],
   "source": [
    "origin, vec, yaw = np.float32([[23.211326599121094, 6.285023212432861, -0.5427668690681458]]), [0, 0, 1], -0.07842210461956332\n",
    "sfm = SFM(origin, vec, yaw)\n",
    "for idx in range(850, 950):\n",
    "    img, R, pos, target = load_frame(idx)\n",
    "    frame = FRAME(img, R, pos, thresh = 40.0)\n",
    "    if frame.ch == -1: continue\n",
    "    print(idx, \"==============\")\n",
    "    wt = frame.p2w_v2(sfm, frame.cnt)\n",
    "    wt = p2w_w2p_once(sfm, frame, wt)\n",
    "    origin_, vec_, yaw_, theta, radius = calc_circle(wt)\n",
    "    sfm.update_sfm(origin_, vec_, yaw_)\n",
    "    print(origin_, vec_, yaw_, radius)\n",
    "    if 1:\n",
    "        KRt = KRt2proj(sfm.CK, np.linalg.inv(frame.R), np.linalg.inv(frame.R).dot(-(frame.pos + sfm.CAM_T)))\n",
    "        pt2d = w2p_sim(KRt, wt)\n",
    "        img3 = cv2.drawContours(frame.img.copy(), [np.int32(pt2d)], -1, (0,255,0), 3)\n",
    "        outer, _ = init_circle(origin_, radius, vec_, yaw_, theta)\n",
    "        _, _, outer_img = frame.w2p(sfm, outer)\n",
    "        img1 = cv2.drawContours(frame.img.copy(), [np.int32(outer_img)], -1, (0,255,255), 3)\n",
    "        img2 = cv2.drawContours(frame.img.copy(), [np.int32(frame.cnt)], -1, (255,0,0), 3)\n",
    "        plt.figure(figsize = (10, 5))\n",
    "        plt.subplot(131)\n",
    "        plt.imshow(img1)\n",
    "        plt.subplot(132)\n",
    "        plt.imshow(img2)\n",
    "        plt.subplot(133)\n",
    "        plt.imshow(img3)\n",
    "        plt.show()\n",
    "    plot3d(wt)\n",
    "   "
   ]
  },
  {
   "cell_type": "code",
   "execution_count": null,
   "metadata": {},
   "outputs": [],
   "source": []
  },
  {
   "cell_type": "code",
   "execution_count": null,
   "metadata": {},
   "outputs": [],
   "source": []
  },
  {
   "cell_type": "code",
   "execution_count": null,
   "metadata": {},
   "outputs": [],
   "source": []
  },
  {
   "cell_type": "code",
   "execution_count": null,
   "metadata": {},
   "outputs": [],
   "source": []
  },
  {
   "cell_type": "code",
   "execution_count": null,
   "metadata": {},
   "outputs": [],
   "source": []
  },
  {
   "cell_type": "code",
   "execution_count": null,
   "metadata": {},
   "outputs": [],
   "source": []
  },
  {
   "cell_type": "code",
   "execution_count": null,
   "metadata": {},
   "outputs": [],
   "source": []
  }
 ],
 "metadata": {
  "kernelspec": {
   "display_name": "Python 3",
   "language": "python",
   "name": "python3"
  },
  "language_info": {
   "codemirror_mode": {
    "name": "ipython",
    "version": 3
   },
   "file_extension": ".py",
   "mimetype": "text/x-python",
   "name": "python",
   "nbconvert_exporter": "python",
   "pygments_lexer": "ipython3",
   "version": "3.7.6"
  }
 },
 "nbformat": 4,
 "nbformat_minor": 5
}
